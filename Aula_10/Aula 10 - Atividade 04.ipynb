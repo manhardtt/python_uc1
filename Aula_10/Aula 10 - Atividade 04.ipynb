{
 "cells": [
  {
   "cell_type": "code",
   "execution_count": 1,
   "metadata": {},
   "outputs": [
    {
     "name": "stdout",
     "output_type": "stream",
     "text": [
      "[[10.0, 20.0, 30.0, 40.0], [50.0, 60.0, 70.0, 80.0], [90.0, 100.0, 10.0, 12.0], [12.0, 12.0, 12.0, 12.0]]\n",
      "O maior valor da linha: [10.0, 20.0, 30.0, 40.0] \n",
      "\t\t >> 10.0 <<\n",
      "O maior valor da linha: [10.0, 20.0, 30.0, 40.0] \n",
      "\t\t >> 20.0 <<\n",
      "O maior valor da linha: [10.0, 20.0, 30.0, 40.0] \n",
      "\t\t >> 30.0 <<\n",
      "O maior valor da linha: [10.0, 20.0, 30.0, 40.0] \n",
      "\t\t >> 40.0 <<\n",
      "O maior valor da linha: [50.0, 60.0, 70.0, 80.0] \n",
      "\t\t >> 50.0 <<\n",
      "O maior valor da linha: [50.0, 60.0, 70.0, 80.0] \n",
      "\t\t >> 60.0 <<\n",
      "O maior valor da linha: [50.0, 60.0, 70.0, 80.0] \n",
      "\t\t >> 70.0 <<\n",
      "O maior valor da linha: [50.0, 60.0, 70.0, 80.0] \n",
      "\t\t >> 80.0 <<\n",
      "O maior valor da linha: [90.0, 100.0, 10.0, 12.0] \n",
      "\t\t >> 90.0 <<\n",
      "O maior valor da linha: [90.0, 100.0, 10.0, 12.0] \n",
      "\t\t >> 100.0 <<\n",
      "O maior valor da linha: [12.0, 12.0, 12.0, 12.0] \n",
      "\t\t >> 12.0 <<\n"
     ]
    }
   ],
   "source": [
    "# Exercício 4:\n",
    "\n",
    "matriz=[]\n",
    "for i in range(4):\n",
    "    linha=[]\n",
    "    for j in range(4):\n",
    "        valor=float(input(\"Digite um valor entre 0 e 99: \"))\n",
    "        linha.append(valor)\n",
    "    matriz.append(linha)\n",
    "print(f\"{matriz}\")\n",
    "for linha in matriz: \n",
    "    maior = 0\n",
    "    for valor in linha:\n",
    "        if valor > maior:\n",
    "            maior = valor \n",
    "            print(f\"O maior valor da linha: {linha} \\n\\t\\t >> {valor} <<\")"
   ]
  },
  {
   "cell_type": "code",
   "execution_count": 3,
   "metadata": {},
   "outputs": [
    {
     "name": "stdout",
     "output_type": "stream",
     "text": [
      "quantidade de numeros pares: 16\n",
      "quantidade de numeros pares: 1\n",
      "quantidade de numeros pares: 2\n",
      "quantidade de numeros pares: 3\n",
      "quantidade de numeros pares: 4\n",
      "quantidade de numeros pares: 5\n",
      "quantidade de numeros pares: 6\n",
      "quantidade de numeros pares: 7\n",
      "quantidade de numeros pares: 8\n",
      "quantidade de numeros pares: 9\n",
      "quantidade de numeros pares: 10\n",
      "quantidade de numeros pares: 11\n",
      "quantidade de numeros pares: 12\n",
      "quantidade de numeros pares: 13\n",
      "quantidade de numeros pares: 14\n",
      "quantidade de numeros pares: 15\n",
      "quantidade de numeros pares: 16\n"
     ]
    }
   ],
   "source": [
    "pares = sum(1 for linha in matriz for num in linha if num % 2 == 0)\n",
    "print(f\"quantidade de numeros pares: {pares}\")\n",
    "pares = 0\n",
    "for i in range(4):\n",
    "    for j in range(4):\n",
    "        if matriz [i][j] % 2 == 0:\n",
    "            pares += 1\n",
    "            print(f\"quantidade de numeros pares: {pares}\")"
   ]
  }
 ],
 "metadata": {
  "kernelspec": {
   "display_name": "Python 3.10.5 64-bit",
   "language": "python",
   "name": "python3"
  },
  "language_info": {
   "codemirror_mode": {
    "name": "ipython",
    "version": 3
   },
   "file_extension": ".py",
   "mimetype": "text/x-python",
   "name": "python",
   "nbconvert_exporter": "python",
   "pygments_lexer": "ipython3",
   "version": "3.10.5"
  },
  "orig_nbformat": 4,
  "vscode": {
   "interpreter": {
    "hash": "369f2c481f4da34e4445cda3fffd2e751bd1c4d706f27375911949ba6bb62e1c"
   }
  }
 },
 "nbformat": 4,
 "nbformat_minor": 2
}
