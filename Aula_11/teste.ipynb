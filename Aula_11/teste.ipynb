{
 "cells": [
  {
   "cell_type": "code",
   "execution_count": 14,
   "metadata": {},
   "outputs": [
    {
     "name": "stdout",
     "output_type": "stream",
     "text": [
      "{1: {'nome': 'gabriel', 'notas': [7.5, 8.0, 9.2], 'média': 8.23}, 2: {'nome': 'joão', 'notas': [6.0, 7.8, 8.5], 'média': 7.43}, 3: {'nome': 'kauan', 'notas': [5.5, 6.5, 7.0], 'média': 6.33}}\n"
     ]
    }
   ],
   "source": [
    "alunos = {}\n",
    "\n",
    "\n",
    "# adicionar alunos:\n",
    "\n",
    "alunos[1] = {\"nome\": \"gabriel\", \"notas\": [7.5, 8.0, 9.2]}\n",
    "alunos[2] = {\"nome\": \"joão\", \"notas\": [6.0, 7.8, 8.5]}\n",
    "alunos[3] = {\"nome\": \"kauan\", \"notas\": [5.5, 6.5, 7.0]}\n",
    "\n",
    "#calcular medidas:\n",
    "\n",
    "for id_aluno, info in alunos.items():\n",
    "    notas = info[\"notas\"]\n",
    "    media = sum(notas) / len(notas)\n",
    "    info[\"média\"] = round(media, 2)\n",
    "\n",
    "print(alunos)"
   ]
  },
  {
   "cell_type": "code",
   "execution_count": 15,
   "metadata": {},
   "outputs": [],
   "source": [
    "alunos[1] [\"notas\"].append(2.3)\n",
    "alunos[2] [\"notas\"].append(8.1)\n",
    "alunos[3] [\"notas\"].append(6.4)\n",
    "\n",
    "alunos[1] [\"notas\"].append(5.2)\n",
    "alunos[2] [\"notas\"].append(7.5)\n",
    "alunos[3] [\"notas\"].append(9.4)\n",
    "\n",
    "alunos[1] [\"notas\"].append(10.0)\n",
    "alunos[2] [\"notas\"].append(6.1)\n",
    "alunos[3] [\"notas\"].append(5.7)"
   ]
  },
  {
   "cell_type": "code",
   "execution_count": 16,
   "metadata": {},
   "outputs": [
    {
     "name": "stdout",
     "output_type": "stream",
     "text": [
      "{'nome': 'gabriel', 'notas': [7.5, 8.0, 9.2, 2.3, 5.2, 10.0], 'média': 8.23}\n"
     ]
    }
   ],
   "source": [
    "print(alunos[1])"
   ]
  },
  {
   "cell_type": "code",
   "execution_count": 22,
   "metadata": {},
   "outputs": [
    {
     "name": "stdout",
     "output_type": "stream",
     "text": [
      "Matricula do aluno ...: 1\n",
      "Nome do aluno.........: gabriel\n",
      "Notas do aluno........:\n",
      "\t\tNota... 7.5\n",
      "\t\tNota... 8.0\n",
      "\t\tNota... 9.2\n",
      "\t\tNota... 2.3\n",
      "\t\tNota... 5.2\n",
      "\t\tNota... 10.0\n",
      "\t\tMedia.. 7.03\n",
      "\t\tMedia.. 7.03\n",
      "\t\tStatus: Aprovado\n"
     ]
    }
   ],
   "source": [
    "for matricula, dados_aluno in alunos.items():\n",
    "    print(f\"Matricula do aluno ...: {matricula}\")\n",
    "    print(f\"Nome do aluno.........: {dados_aluno['nome']}\")\n",
    "    \n",
    "    print(\"Notas do aluno........:\")\n",
    "    for nota in dados_aluno[\"notas\"]:\n",
    "        print(f\"\\t\\tNota... {nota}\")\n",
    "    \n",
    "    media = sum(dados_aluno[\"notas\"]) / len(dados_aluno[\"notas\"])\n",
    "    print(f\"\\t\\tMedia.. {media:.2f}\")  # Mostra a média com 2 casas decimais\n",
    "\n",
    "    # Armazena a média no dicionário corretamente\n",
    "    dados_aluno[\"media\"] = media\n",
    "\n",
    "    print(f\"\\t\\tMedia.. {dados_aluno['media']:.2f}\")  # Correção na forma de acessar a média\n",
    "\n",
    "    if media >= 6:\n",
    "        dados_aluno[\"status\"] = \"Aprovado\"\n",
    "    else:\n",
    "        dados_aluno[\"status\"] = \"Reprovado\"\n",
    "    \n",
    "    print(f\"\\t\\tStatus: {dados_aluno['status']}\")\n",
    "    break  # Remova esse break se quiser processar todos os alunos\n"
   ]
  },
  {
   "cell_type": "code",
   "execution_count": null,
   "metadata": {},
   "outputs": [],
   "source": []
  }
 ],
 "metadata": {
  "kernelspec": {
   "display_name": "Python 3.10.5 64-bit",
   "language": "python",
   "name": "python3"
  },
  "language_info": {
   "codemirror_mode": {
    "name": "ipython",
    "version": 3
   },
   "file_extension": ".py",
   "mimetype": "text/x-python",
   "name": "python",
   "nbconvert_exporter": "python",
   "pygments_lexer": "ipython3",
   "version": "3.10.5"
  },
  "orig_nbformat": 4,
  "vscode": {
   "interpreter": {
    "hash": "369f2c481f4da34e4445cda3fffd2e751bd1c4d706f27375911949ba6bb62e1c"
   }
  }
 },
 "nbformat": 4,
 "nbformat_minor": 2
}
