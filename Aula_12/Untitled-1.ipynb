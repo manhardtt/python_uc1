{
 "cells": [
  {
   "cell_type": "markdown",
   "metadata": {},
   "source": [
    "🐍 Criando uma Classe em Python"
   ]
  },
  {
   "cell_type": "code",
   "execution_count": 7,
   "metadata": {},
   "outputs": [],
   "source": [
    "class Carro:\n",
    "    def __init__ (self, marca, modelo, ano):\n",
    "        self.marca = marca\n",
    "        self.modelo = modelo\n",
    "        self.ano = ano\n",
    "        self.cor = \"\"\n",
    "        self._garanntia = True\n",
    "        self._ligado = False\n",
    "\n",
    "    def ligar(self):\n",
    "        if self._ligado:\n",
    "            print(f\"\\n\\t [ERRO] Já está ligado \\n\")\n",
    "        else:\n",
    "                self._ligado = True\n",
    "                print(f\"\\t\\t [OK] O carro está ligado!\")\n",
    "\n",
    "    def desligar(self):\n",
    "        if self._ligado:\n",
    "            self._ligado = False\n",
    "            print(\"[OK] O carro foi desligado!\")\n",
    "        else:\n",
    "                print(f\"\\n\\t [ERRO] Já está desligado \\n\")\n",
    "\n",
    "\n",
    "\n",
    "    def exibir_info(self):\n",
    "        if self._ligado:\n",
    "            status = \"ligado\"\n",
    "        else:\n",
    "            status = \"desligado\"\n",
    "            \n",
    "            print(f\"{self.marca} - {self.modelo} está {status}\")"
   ]
  },
  {
   "cell_type": "code",
   "execution_count": 9,
   "metadata": {},
   "outputs": [],
   "source": [
    "meu_carro = Carro (\"WV\", \"Gol\", 2013)"
   ]
  },
  {
   "cell_type": "code",
   "execution_count": 10,
   "metadata": {},
   "outputs": [
    {
     "name": "stdout",
     "output_type": "stream",
     "text": [
      "<__main__.Carro object at 0x0000024494A99FC0>\n"
     ]
    }
   ],
   "source": [
    "print(meu_carro)"
   ]
  },
  {
   "cell_type": "code",
   "execution_count": 11,
   "metadata": {},
   "outputs": [
    {
     "name": "stdout",
     "output_type": "stream",
     "text": [
      "WV - Gol está desligado\n"
     ]
    }
   ],
   "source": [
    "meu_carro.exibir_info()"
   ]
  },
  {
   "cell_type": "code",
   "execution_count": 12,
   "metadata": {},
   "outputs": [
    {
     "name": "stdout",
     "output_type": "stream",
     "text": [
      "\t\t [OK] O carro está ligado!\n"
     ]
    }
   ],
   "source": [
    "meu_carro.ligar()"
   ]
  },
  {
   "cell_type": "code",
   "execution_count": 13,
   "metadata": {},
   "outputs": [
    {
     "name": "stdout",
     "output_type": "stream",
     "text": [
      "\n",
      "\t [ERRO] Já está ligado \n",
      "\n"
     ]
    }
   ],
   "source": [
    "meu_carro.ligar()"
   ]
  },
  {
   "cell_type": "code",
   "execution_count": 14,
   "metadata": {},
   "outputs": [
    {
     "name": "stdout",
     "output_type": "stream",
     "text": [
      "[OK] O carro foi desligado!\n"
     ]
    }
   ],
   "source": [
    "meu_carro.desligar()"
   ]
  },
  {
   "cell_type": "markdown",
   "metadata": {},
   "source": [
    "# Desafio 01"
   ]
  },
  {
   "cell_type": "code",
   "execution_count": 50,
   "metadata": {},
   "outputs": [],
   "source": [
    "class Carro:\n",
    "    def __init__ (self, marca, modelo, ano):\n",
    "        self.marca = marca\n",
    "        self.modelo = modelo\n",
    "        self.ano = ano\n",
    "        self.cor = \"\"\n",
    "        self.seguro = False\n",
    "        self._ligado = False\n",
    "        self.placa = \"\"\n",
    "        self.reboque = False\n",
    "    \n",
    "    def ligar(self):\n",
    "        if self._ligado:\n",
    "            print(f\"\\n\\t [ERRO] Já está ligado \\n\")\n",
    "        else:\n",
    "                self._ligado = True\n",
    "                print(f\"\\t\\t [OK] O carro está ligado!\")\n",
    "\n",
    "    def desligar(self):\n",
    "        if self._ligado:\n",
    "            self._ligado = False\n",
    "            print(\"[OK] O carro foi desligado!\")\n",
    "        else:\n",
    "                print(f\"\\n\\t [ERRO] Já está desligado \\n\")\n",
    "\n",
    "\n",
    "\n",
    "    def exibir_info(self):\n",
    "        if self._ligado:\n",
    "            status = \"ligado\"\n",
    "        else:\n",
    "            status = \"desligado\"\n",
    "            \n",
    "            print(f\"{self.marca} - {self.modelo} está {status}\")\n",
    "\n",
    "    def seguro_contratar(self):\n",
    "        if self.seguro:\n",
    "            print(f\"\\n\\t [ERRO] O seguro já foi contratado.\")\n",
    "        else:\n",
    "            self.seguro = True\n",
    "            print(f\"\\n\\t O seguro foi contratado!\")\n",
    "\n",
    "    def seguro_cancelar(self):\n",
    "        if self.seguro:\n",
    "            self.seguro = False\n",
    "            print(f\"\\n\\t [OK] O seguro foi cancelado!\")\n",
    "        else:\n",
    "                print(f\"\\n\\t [ERRO] O seguro ja foi cancelado.\")\n",
    "\n",
    "    def info_cor(self):\n",
    "        if self.cor:\n",
    "            print(f\"\\n\\t A cor do carro é [Grafite]\")\n",
    "\n",
    "    def placa_emplacar(self):\n",
    "        if self.placa:\n",
    "            print(f\"\\n\\t Seu carro foi emplacado, sua placa é [ASGWE23467K]\")\n",
    "\n",
    "    def placa_cancelar(self):\n",
    "        if self.placa:\n",
    "            print(f\"\\n\\t O seu carro não está emplacado!\")\n",
    "\n",
    "    def reboque_contratar(self):\n",
    "        if self.reboque:\n",
    "            print(f\"\\n\\t Seu reboque foi contratado!\")\n",
    "\n",
    "    def reboque_cancelar(self):\n",
    "        if self.reboque:\n",
    "            print(f\"\\n\\t Seu reboque foi cancelado!\")\n",
    "\n",
    "    "
   ]
  },
  {
   "cell_type": "code",
   "execution_count": 51,
   "metadata": {},
   "outputs": [],
   "source": [
    "meu_carro = Carro(\"Mercedes\", \"G63\", 2025)"
   ]
  },
  {
   "cell_type": "code",
   "execution_count": 52,
   "metadata": {},
   "outputs": [
    {
     "name": "stdout",
     "output_type": "stream",
     "text": [
      "\t\t [OK] O carro está ligado!\n"
     ]
    }
   ],
   "source": [
    "meu_carro.ligar()"
   ]
  },
  {
   "cell_type": "code",
   "execution_count": 53,
   "metadata": {},
   "outputs": [
    {
     "name": "stdout",
     "output_type": "stream",
     "text": [
      "[OK] O carro foi desligado!\n"
     ]
    }
   ],
   "source": [
    "meu_carro.desligar()"
   ]
  },
  {
   "cell_type": "code",
   "execution_count": 54,
   "metadata": {},
   "outputs": [
    {
     "name": "stdout",
     "output_type": "stream",
     "text": [
      "\n",
      "\t O seguro foi contratado!\n"
     ]
    }
   ],
   "source": [
    "meu_carro.seguro_contratar()"
   ]
  },
  {
   "cell_type": "code",
   "execution_count": 55,
   "metadata": {},
   "outputs": [
    {
     "name": "stdout",
     "output_type": "stream",
     "text": [
      "\n",
      "\t [ERRO] O seguro já foi contratado.\n"
     ]
    }
   ],
   "source": [
    "meu_carro.seguro_contratar()"
   ]
  },
  {
   "cell_type": "code",
   "execution_count": 56,
   "metadata": {},
   "outputs": [],
   "source": [
    "meu_carro.reboque_contratar()"
   ]
  },
  {
   "cell_type": "code",
   "execution_count": 57,
   "metadata": {},
   "outputs": [],
   "source": [
    "meu_carro.info_cor()"
   ]
  },
  {
   "cell_type": "code",
   "execution_count": 58,
   "metadata": {},
   "outputs": [],
   "source": [
    "meu_carro.placa_emplacar()"
   ]
  },
  {
   "cell_type": "code",
   "execution_count": 70,
   "metadata": {},
   "outputs": [],
   "source": [
    "class Carro:\n",
    "    def __init__ (self, marca, modelo, ano):\n",
    "        self.marca = marca\n",
    "        self.modelo = modelo\n",
    "        self.ano = ano\n",
    "        self.cor = \"\"\n",
    "        self.seguro = False\n",
    "        self._ligado = False\n",
    "        self.placa = \"\"\n",
    "        self.reboque = False\n",
    "    \n",
    "    def ligar(self):\n",
    "        if self._ligado:\n",
    "            print(f\"\\n\\t [ERRO] Já está ligado \\n\")\n",
    "        else:\n",
    "                self._ligado = True\n",
    "                print(f\"\\t\\t [OK] O carro está ligado!\")\n",
    "\n",
    "    def desligar(self):\n",
    "        if self._ligado:\n",
    "            self._ligado = False\n",
    "            print(\"[OK] O carro foi desligado!\")\n",
    "        else:\n",
    "                print(f\"\\n\\t [ERRO] Já está desligado \\n\")\n",
    "\n",
    "\n",
    "\n",
    "    def exibir_info(self):\n",
    "        if self._ligado:\n",
    "            status = \"ligado\"\n",
    "        else:\n",
    "            status = \"desligado\"\n",
    "\n",
    "        if self.seguro:\n",
    "            seguro = \"seguro contratado\"\n",
    "        else:\n",
    "            seguro = \"seguro cancelado\"\n",
    "\n",
    "        if self.placa :\n",
    "            emplacado = \"Carro emplacado\"\n",
    "        else: \n",
    "            emplacado = \"Carro não emplacado\"\n",
    "        \n",
    "        if self.reboque :\n",
    "            reboque = \"Reboque contratado\"\n",
    "        else: \n",
    "            reboque = \"Reboque não contratado\"\n",
    "            \n",
    "            print(f\"{self.marca} - {self.modelo} - {self.seguro} - {self.reboque} está {status}\")\n",
    "\n",
    "    def seguro_contratar(self):\n",
    "        if self.seguro:\n",
    "            print(f\"\\n\\t [ERRO] O seguro já foi contratado.\")\n",
    "        else:\n",
    "            self.seguro = True\n",
    "            print(f\"\\n\\t O seguro foi contratado!\")\n",
    "\n",
    "    def seguro_cancelar(self):\n",
    "        if self.seguro:\n",
    "            self.seguro = False\n",
    "            print(f\"\\n\\t [OK] O seguro foi cancelado!\")\n",
    "        else:\n",
    "                print(f\"\\n\\t [ERRO] O seguro ja foi cancelado.\")\n",
    "\n",
    "    def info_cor(self):\n",
    "        if self.cor:\n",
    "            print(f\"\\n\\t A cor do carro é [Grafite]\")\n",
    "\n",
    "    def placa_emplacar(self):\n",
    "        if self.placa:\n",
    "            print(f\"\\n\\t Seu carro foi emplacado, sua placa é [ASGWE23467K]\")\n",
    "\n",
    "    def placa_cancelar(self):\n",
    "        if self.placa:\n",
    "            print(f\"\\n\\t O seu carro não está emplacado!\")\n",
    "\n",
    "    def reboque_contratar(self):\n",
    "        if self.reboque:\n",
    "            print(f\"\\n\\t Seu reboque foi contratado!\")\n",
    "\n",
    "    def reboque_cancelar(self):\n",
    "        if self.reboque:\n",
    "            print(f\"\\n\\t Seu reboque foi cancelado!\")\n",
    "\n",
    "    "
   ]
  },
  {
   "cell_type": "code",
   "execution_count": 71,
   "metadata": {},
   "outputs": [
    {
     "name": "stdout",
     "output_type": "stream",
     "text": [
      "Mercedes - G63 está desligado\n"
     ]
    }
   ],
   "source": [
    "meu_carro.exibir_info()"
   ]
  },
  {
   "cell_type": "code",
   "execution_count": null,
   "metadata": {},
   "outputs": [],
   "source": [
    "class Carro:\n",
    "    def __init__(self, placa, modelo):  \n",
    "        self.placa = placa\n",
    "        self.modelo = modelo\n",
    "\n",
    "    def exibir_info(self):\n",
    "        return f\"placa: {self.placa} modelo: {self.modelo}\"\n",
    "\n",
    "\n",
    "carro1 = Carro(\"RKT4J29\", \"G63\")\n",
    "carro2 = Carro(\"RHL4G56\", \"Etios\")\n",
    "carro3 = Carro(\"QWP4T10\", \"Virtus\")\n",
    "\n",
    "colecao = {\n",
    "    carro1.placa: carro1,\n",
    "    carro2.placa: carro2,\n",
    "    carro3.placa: carro3\n",
    "}\n",
    "\n",
    "for placa, carro in colecao.items():\n",
    "    print(carro.exibir_info())\n"
   ]
  },
  {
   "cell_type": "code",
   "execution_count": 75,
   "metadata": {},
   "outputs": [
    {
     "name": "stdout",
     "output_type": "stream",
     "text": [
      "carro 0: Honda - Civic - LKUH4321 - Preto - 2014 | desligado - reboque está ligado - seguro está ligado\n",
      "carro 1: Porsche - Cayenne - QWLK0034 - Azul - 2023 | desligado - reboque está ligado - seguro está ligado\n",
      "carro 2: Toyota - Yaris - AXZRT02760 - Prata - 2018 | desligado - reboque está ligado - seguro está ligado\n"
     ]
    }
   ],
   "source": [
    "class Carro:\n",
    "    def __init__(self, marca, modelo, ano, cor, placa):\n",
    "        self.marca = marca \n",
    "        self.modelo = modelo    \n",
    "        self.ano = ano\n",
    "        self.cor = cor\n",
    "        self.placa = placa\n",
    "        self._garantia = True  \n",
    "        self._seguro = True \n",
    "        self._ligado  = False\n",
    "        self._reboque = True\n",
    "\n",
    "    def ligar(self):\n",
    "        if self._ligado:\n",
    "            print(\"já esta ligado!\")\n",
    "        else:\n",
    "            self._ligado = True\n",
    "            print(\"[OK] O carro foi ligado!\")\n",
    "\n",
    "    def desligar(self):\n",
    "        if not self._ligado:\n",
    "            print(\"[OK] o carro foi desligado!\")\n",
    "        else:\n",
    "            print(\"[ERRO] ja está desligado!\")  \n",
    "\n",
    "    def exibir_info(self):\n",
    "        status = \"ligado\" if self._ligado else \"desligado\"\n",
    "        seguro = \"seguro está ligado\" if self._seguro else \"seguro está desligado\"\n",
    "        reboque = \"reboque está ligado\" if self._reboque else \"reboque está desligado\"\n",
    "\n",
    "        print(f\"{self.marca} - {self.modelo} - {self.placa} - {self.cor} - {self.ano} | {status} - {reboque} - {seguro}\")\n",
    "\n",
    "\n",
    "carro1 = Carro(\"Honda\", \"Civic\", 2014, \"Preto\", \"LKUH4321\")\n",
    "carro2 = Carro(\"Porsche\", \"Cayenne\", 2023, \"Azul\", \"QWLK0034\")\n",
    "carro3 = Carro(\"Toyota\", \"Yaris\", 2018, \"Prata\", \"AXZRT02760\")\n",
    "\n",
    "colecao = []\n",
    "\n",
    "colecao.append(carro1)\n",
    "colecao.append(carro2)\n",
    "colecao.append(carro3)\n",
    "\n",
    "for i in range(len(colecao)):\n",
    "    print(f\"carro {i}: \", end=\"\")\n",
    "    colecao[i].exibir_info()"
   ]
  },
  {
   "cell_type": "code",
   "execution_count": 76,
   "metadata": {},
   "outputs": [
    {
     "name": "stdout",
     "output_type": "stream",
     "text": [
      "placa: RKT4J29 modelo: G63\n",
      "placa: RHL4G56 modelo: Etios\n",
      "placa: QWP4T10 modelo: Virtus\n"
     ]
    }
   ],
   "source": [
    "class Carro:\n",
    "    def __init__(self, placa, modelo):\n",
    "        self.placa = placa\n",
    "        self.modelo = modelo\n",
    "\n",
    "    def exibir_info(self):\n",
    "        return f\"placa: {self.placa} modelo: {self.modelo}\"\n",
    "\n",
    "colecao = {\n",
    "    \"RKT4J29\": Carro(\"RKT4J29\", \"G63\"),\n",
    "    \"RHL4G56\": Carro(\"RHL4G56\", \"Etios\"),\n",
    "    \"QWP4T10\": Carro(\"QWP4T10\", \"Virtus\")\n",
    "}\n",
    "\n",
    "for placa, carro in colecao.items():\n",
    "    print(carro.exibir_info())\n"
   ]
  }
 ],
 "metadata": {
  "kernelspec": {
   "display_name": "Python 3.10.5 64-bit",
   "language": "python",
   "name": "python3"
  },
  "language_info": {
   "codemirror_mode": {
    "name": "ipython",
    "version": 3
   },
   "file_extension": ".py",
   "mimetype": "text/x-python",
   "name": "python",
   "nbconvert_exporter": "python",
   "pygments_lexer": "ipython3",
   "version": "3.10.5"
  },
  "orig_nbformat": 4,
  "vscode": {
   "interpreter": {
    "hash": "369f2c481f4da34e4445cda3fffd2e751bd1c4d706f27375911949ba6bb62e1c"
   }
  }
 },
 "nbformat": 4,
 "nbformat_minor": 2
}
